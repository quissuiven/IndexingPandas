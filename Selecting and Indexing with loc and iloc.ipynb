{
 "cells": [
  {
   "cell_type": "markdown",
   "metadata": {},
   "source": [
    "This is a practice on pandas' loc and iloc functions to improve efficiency in Exploratory Data Analysis or data wrangling."
   ]
  },
  {
   "cell_type": "markdown",
   "metadata": {},
   "source": [
    "import pandas as pd\n",
    "import random"
   ]
  },
  {
   "cell_type": "code",
   "execution_count": 2,
   "metadata": {},
   "outputs": [],
   "source": [
    "data = pd.read_csv(\"uk-500.csv\")"
   ]
  },
  {
   "cell_type": "code",
   "execution_count": 3,
   "metadata": {},
   "outputs": [
    {
     "data": {
      "text/html": [
       "<div>\n",
       "<style scoped>\n",
       "    .dataframe tbody tr th:only-of-type {\n",
       "        vertical-align: middle;\n",
       "    }\n",
       "\n",
       "    .dataframe tbody tr th {\n",
       "        vertical-align: top;\n",
       "    }\n",
       "\n",
       "    .dataframe thead th {\n",
       "        text-align: right;\n",
       "    }\n",
       "</style>\n",
       "<table border=\"1\" class=\"dataframe\">\n",
       "  <thead>\n",
       "    <tr style=\"text-align: right;\">\n",
       "      <th></th>\n",
       "      <th>first_name</th>\n",
       "      <th>last_name</th>\n",
       "      <th>company_name</th>\n",
       "      <th>address</th>\n",
       "      <th>city</th>\n",
       "      <th>county</th>\n",
       "      <th>postal</th>\n",
       "      <th>phone1</th>\n",
       "      <th>phone2</th>\n",
       "      <th>email</th>\n",
       "      <th>web</th>\n",
       "    </tr>\n",
       "  </thead>\n",
       "  <tbody>\n",
       "    <tr>\n",
       "      <th>0</th>\n",
       "      <td>Aleshia</td>\n",
       "      <td>Tomkiewicz</td>\n",
       "      <td>Alan D Rosenburg Cpa Pc</td>\n",
       "      <td>14 Taylor St</td>\n",
       "      <td>St. Stephens Ward</td>\n",
       "      <td>Kent</td>\n",
       "      <td>CT2 7PP</td>\n",
       "      <td>01835-703597</td>\n",
       "      <td>01944-369967</td>\n",
       "      <td>atomkiewicz@hotmail.com</td>\n",
       "      <td>http://www.alandrosenburgcpapc.co.uk</td>\n",
       "    </tr>\n",
       "    <tr>\n",
       "      <th>1</th>\n",
       "      <td>Evan</td>\n",
       "      <td>Zigomalas</td>\n",
       "      <td>Cap Gemini America</td>\n",
       "      <td>5 Binney St</td>\n",
       "      <td>Abbey Ward</td>\n",
       "      <td>Buckinghamshire</td>\n",
       "      <td>HP11 2AX</td>\n",
       "      <td>01937-864715</td>\n",
       "      <td>01714-737668</td>\n",
       "      <td>evan.zigomalas@gmail.com</td>\n",
       "      <td>http://www.capgeminiamerica.co.uk</td>\n",
       "    </tr>\n",
       "    <tr>\n",
       "      <th>2</th>\n",
       "      <td>France</td>\n",
       "      <td>Andrade</td>\n",
       "      <td>Elliott, John W Esq</td>\n",
       "      <td>8 Moor Place</td>\n",
       "      <td>East Southbourne and Tuckton W</td>\n",
       "      <td>Bournemouth</td>\n",
       "      <td>BH6 3BE</td>\n",
       "      <td>01347-368222</td>\n",
       "      <td>01935-821636</td>\n",
       "      <td>france.andrade@hotmail.com</td>\n",
       "      <td>http://www.elliottjohnwesq.co.uk</td>\n",
       "    </tr>\n",
       "    <tr>\n",
       "      <th>3</th>\n",
       "      <td>Ulysses</td>\n",
       "      <td>Mcwalters</td>\n",
       "      <td>Mcmahan, Ben L</td>\n",
       "      <td>505 Exeter Rd</td>\n",
       "      <td>Hawerby cum Beesby</td>\n",
       "      <td>Lincolnshire</td>\n",
       "      <td>DN36 5RP</td>\n",
       "      <td>01912-771311</td>\n",
       "      <td>01302-601380</td>\n",
       "      <td>ulysses@hotmail.com</td>\n",
       "      <td>http://www.mcmahanbenl.co.uk</td>\n",
       "    </tr>\n",
       "    <tr>\n",
       "      <th>4</th>\n",
       "      <td>Tyisha</td>\n",
       "      <td>Veness</td>\n",
       "      <td>Champagne Room</td>\n",
       "      <td>5396 Forth Street</td>\n",
       "      <td>Greets Green and Lyng Ward</td>\n",
       "      <td>West Midlands</td>\n",
       "      <td>B70 9DT</td>\n",
       "      <td>01547-429341</td>\n",
       "      <td>01290-367248</td>\n",
       "      <td>tyisha.veness@hotmail.com</td>\n",
       "      <td>http://www.champagneroom.co.uk</td>\n",
       "    </tr>\n",
       "  </tbody>\n",
       "</table>\n",
       "</div>"
      ],
      "text/plain": [
       "  first_name   last_name             company_name            address  \\\n",
       "0    Aleshia  Tomkiewicz  Alan D Rosenburg Cpa Pc       14 Taylor St   \n",
       "1       Evan   Zigomalas       Cap Gemini America        5 Binney St   \n",
       "2     France     Andrade      Elliott, John W Esq       8 Moor Place   \n",
       "3    Ulysses   Mcwalters           Mcmahan, Ben L      505 Exeter Rd   \n",
       "4     Tyisha      Veness           Champagne Room  5396 Forth Street   \n",
       "\n",
       "                             city           county    postal        phone1  \\\n",
       "0               St. Stephens Ward             Kent   CT2 7PP  01835-703597   \n",
       "1                      Abbey Ward  Buckinghamshire  HP11 2AX  01937-864715   \n",
       "2  East Southbourne and Tuckton W      Bournemouth   BH6 3BE  01347-368222   \n",
       "3              Hawerby cum Beesby     Lincolnshire  DN36 5RP  01912-771311   \n",
       "4      Greets Green and Lyng Ward    West Midlands   B70 9DT  01547-429341   \n",
       "\n",
       "         phone2                       email  \\\n",
       "0  01944-369967     atomkiewicz@hotmail.com   \n",
       "1  01714-737668    evan.zigomalas@gmail.com   \n",
       "2  01935-821636  france.andrade@hotmail.com   \n",
       "3  01302-601380         ulysses@hotmail.com   \n",
       "4  01290-367248   tyisha.veness@hotmail.com   \n",
       "\n",
       "                                    web  \n",
       "0  http://www.alandrosenburgcpapc.co.uk  \n",
       "1     http://www.capgeminiamerica.co.uk  \n",
       "2      http://www.elliottjohnwesq.co.uk  \n",
       "3          http://www.mcmahanbenl.co.uk  \n",
       "4        http://www.champagneroom.co.uk  "
      ]
     },
     "execution_count": 3,
     "metadata": {},
     "output_type": "execute_result"
    }
   ],
   "source": [
    "data.head(5)"
   ]
  },
  {
   "cell_type": "markdown",
   "metadata": {},
   "source": [
    "# 1. Selecting pandas data using \"iloc\""
   ]
  },
  {
   "cell_type": "markdown",
   "metadata": {},
   "source": [
    "Purpose: used with Dataframe to select rows and columns by number\n",
    "\n",
    "Syntax: data.iloc[row selection,column selection]\n",
    "\n",
    "Row/column selection: \n",
    "- Single row/column number eg. 1\n",
    "- Slice of rows/columns eg. 4:7\n",
    "- Integer list of rows eg. [0,1,2]"
   ]
  },
  {
   "cell_type": "code",
   "execution_count": 7,
   "metadata": {},
   "outputs": [
    {
     "data": {
      "text/plain": [
       "'Greets Green and Lyng Ward'"
      ]
     },
     "execution_count": 7,
     "metadata": {},
     "output_type": "execute_result"
    }
   ],
   "source": [
    "#let's try to access row index 4 and column index 4 of the dataset. It should give \"Greets Green and Lyng Ward\"\n",
    "data.iloc[4,4]"
   ]
  },
  {
   "cell_type": "code",
   "execution_count": 12,
   "metadata": {},
   "outputs": [
    {
     "data": {
      "text/plain": [
       "first_name      Ulysses\n",
       "last_name     Mcwalters\n",
       "Name: 3, dtype: object"
      ]
     },
     "execution_count": 12,
     "metadata": {},
     "output_type": "execute_result"
    }
   ],
   "source": [
    "#now let's try to access a slice of columns. We want to get the first_name and last_name of the row index 3.\n",
    "data.iloc[3,0:2]"
   ]
  },
  {
   "cell_type": "code",
   "execution_count": 13,
   "metadata": {},
   "outputs": [
    {
     "data": {
      "text/html": [
       "<div>\n",
       "<style scoped>\n",
       "    .dataframe tbody tr th:only-of-type {\n",
       "        vertical-align: middle;\n",
       "    }\n",
       "\n",
       "    .dataframe tbody tr th {\n",
       "        vertical-align: top;\n",
       "    }\n",
       "\n",
       "    .dataframe thead th {\n",
       "        text-align: right;\n",
       "    }\n",
       "</style>\n",
       "<table border=\"1\" class=\"dataframe\">\n",
       "  <thead>\n",
       "    <tr style=\"text-align: right;\">\n",
       "      <th></th>\n",
       "      <th>first_name</th>\n",
       "      <th>last_name</th>\n",
       "    </tr>\n",
       "  </thead>\n",
       "  <tbody>\n",
       "    <tr>\n",
       "      <th>1</th>\n",
       "      <td>Evan</td>\n",
       "      <td>Zigomalas</td>\n",
       "    </tr>\n",
       "    <tr>\n",
       "      <th>2</th>\n",
       "      <td>France</td>\n",
       "      <td>Andrade</td>\n",
       "    </tr>\n",
       "    <tr>\n",
       "      <th>3</th>\n",
       "      <td>Ulysses</td>\n",
       "      <td>Mcwalters</td>\n",
       "    </tr>\n",
       "    <tr>\n",
       "      <th>4</th>\n",
       "      <td>Tyisha</td>\n",
       "      <td>Veness</td>\n",
       "    </tr>\n",
       "  </tbody>\n",
       "</table>\n",
       "</div>"
      ],
      "text/plain": [
       "  first_name  last_name\n",
       "1       Evan  Zigomalas\n",
       "2     France    Andrade\n",
       "3    Ulysses  Mcwalters\n",
       "4     Tyisha     Veness"
      ]
     },
     "execution_count": 13,
     "metadata": {},
     "output_type": "execute_result"
    }
   ],
   "source": [
    "#now, assume that we want to get the first and last names of people with row index 1 to 4.\n",
    "data.iloc[1:5,0:2]"
   ]
  },
  {
   "cell_type": "code",
   "execution_count": 18,
   "metadata": {},
   "outputs": [
    {
     "data": {
      "text/plain": [
       "Index(['first_name', 'last_name', 'company_name', 'address', 'city', 'county',\n",
       "       'postal', 'phone1', 'phone2', 'email', 'web'],\n",
       "      dtype='object')"
      ]
     },
     "execution_count": 18,
     "metadata": {},
     "output_type": "execute_result"
    }
   ],
   "source": [
    "#What if I want to access row index 4,7,8 to find out about their first_name, last_name, city, phone1 and email?\n",
    "data.columns"
   ]
  },
  {
   "cell_type": "code",
   "execution_count": 19,
   "metadata": {},
   "outputs": [
    {
     "data": {
      "text/html": [
       "<div>\n",
       "<style scoped>\n",
       "    .dataframe tbody tr th:only-of-type {\n",
       "        vertical-align: middle;\n",
       "    }\n",
       "\n",
       "    .dataframe tbody tr th {\n",
       "        vertical-align: top;\n",
       "    }\n",
       "\n",
       "    .dataframe thead th {\n",
       "        text-align: right;\n",
       "    }\n",
       "</style>\n",
       "<table border=\"1\" class=\"dataframe\">\n",
       "  <thead>\n",
       "    <tr style=\"text-align: right;\">\n",
       "      <th></th>\n",
       "      <th>first_name</th>\n",
       "      <th>last_name</th>\n",
       "      <th>city</th>\n",
       "      <th>phone1</th>\n",
       "      <th>email</th>\n",
       "    </tr>\n",
       "  </thead>\n",
       "  <tbody>\n",
       "    <tr>\n",
       "      <th>4</th>\n",
       "      <td>Tyisha</td>\n",
       "      <td>Veness</td>\n",
       "      <td>Greets Green and Lyng Ward</td>\n",
       "      <td>01547-429341</td>\n",
       "      <td>tyisha.veness@hotmail.com</td>\n",
       "    </tr>\n",
       "    <tr>\n",
       "      <th>7</th>\n",
       "      <td>Laquita</td>\n",
       "      <td>Hisaw</td>\n",
       "      <td>Chirton Ward</td>\n",
       "      <td>01746-394243</td>\n",
       "      <td>laquita@yahoo.com</td>\n",
       "    </tr>\n",
       "    <tr>\n",
       "      <th>8</th>\n",
       "      <td>Lura</td>\n",
       "      <td>Manzella</td>\n",
       "      <td>Staple Hill Ward</td>\n",
       "      <td>01907-538509</td>\n",
       "      <td>lura@hotmail.com</td>\n",
       "    </tr>\n",
       "  </tbody>\n",
       "</table>\n",
       "</div>"
      ],
      "text/plain": [
       "  first_name last_name                        city        phone1  \\\n",
       "4     Tyisha    Veness  Greets Green and Lyng Ward  01547-429341   \n",
       "7    Laquita     Hisaw                Chirton Ward  01746-394243   \n",
       "8       Lura  Manzella            Staple Hill Ward  01907-538509   \n",
       "\n",
       "                       email  \n",
       "4  tyisha.veness@hotmail.com  \n",
       "7          laquita@yahoo.com  \n",
       "8           lura@hotmail.com  "
      ]
     },
     "execution_count": 19,
     "metadata": {},
     "output_type": "execute_result"
    }
   ],
   "source": [
    "data.iloc[[4,7,8],[0,1,4,7,9]]"
   ]
  },
  {
   "cell_type": "markdown",
   "metadata": {},
   "source": [
    "Note:\n",
    "If single row/column is selected, returns series.\n",
    "If multiple rows/columns are selected, returns Dataframe. \n",
    "If value is in list, returns Dataframe."
   ]
  },
  {
   "cell_type": "code",
   "execution_count": 28,
   "metadata": {},
   "outputs": [
    {
     "name": "stdout",
     "output_type": "stream",
     "text": [
      "<class 'str'>\n",
      "<class 'pandas.core.series.Series'>\n",
      "<class 'pandas.core.series.Series'>\n",
      "<class 'pandas.core.frame.DataFrame'>\n",
      "<class 'pandas.core.frame.DataFrame'>\n"
     ]
    }
   ],
   "source": [
    "print (type(data.iloc[5,5]))\n",
    "print (type(data.iloc[5]))\n",
    "print (type(data.iloc[0:2,3]))\n",
    "print (type(data.iloc[0:2,0:3]))\n",
    "print (type(data.iloc[[3]]))"
   ]
  },
  {
   "cell_type": "markdown",
   "metadata": {},
   "source": [
    "# 2. Selecting pandas data using \"loc\""
   ]
  },
  {
   "cell_type": "markdown",
   "metadata": {},
   "source": [
    "Purpose: used with Dataframes to \n",
    "- select rows by label/index\n",
    "- select rows with a boolean/conditional lookup\n",
    "\n",
    "Syntax: data.loc[row selection,column selection]"
   ]
  },
  {
   "cell_type": "markdown",
   "metadata": {},
   "source": [
    "## 2a. Label-based/ Index-based indexing using .loc"
   ]
  },
  {
   "cell_type": "markdown",
   "metadata": {},
   "source": [
    "In this method, .loc directly selects based on index values of any rows. These can be numbers or labels."
   ]
  },
  {
   "cell_type": "code",
   "execution_count": 30,
   "metadata": {},
   "outputs": [
    {
     "data": {
      "text/html": [
       "<div>\n",
       "<style scoped>\n",
       "    .dataframe tbody tr th:only-of-type {\n",
       "        vertical-align: middle;\n",
       "    }\n",
       "\n",
       "    .dataframe tbody tr th {\n",
       "        vertical-align: top;\n",
       "    }\n",
       "\n",
       "    .dataframe thead th {\n",
       "        text-align: right;\n",
       "    }\n",
       "</style>\n",
       "<table border=\"1\" class=\"dataframe\">\n",
       "  <thead>\n",
       "    <tr style=\"text-align: right;\">\n",
       "      <th></th>\n",
       "      <th>first_name</th>\n",
       "      <th>last_name</th>\n",
       "      <th>company_name</th>\n",
       "      <th>address</th>\n",
       "      <th>county</th>\n",
       "      <th>postal</th>\n",
       "      <th>phone1</th>\n",
       "      <th>phone2</th>\n",
       "      <th>email</th>\n",
       "      <th>web</th>\n",
       "    </tr>\n",
       "    <tr>\n",
       "      <th>city</th>\n",
       "      <th></th>\n",
       "      <th></th>\n",
       "      <th></th>\n",
       "      <th></th>\n",
       "      <th></th>\n",
       "      <th></th>\n",
       "      <th></th>\n",
       "      <th></th>\n",
       "      <th></th>\n",
       "      <th></th>\n",
       "    </tr>\n",
       "  </thead>\n",
       "  <tbody>\n",
       "    <tr>\n",
       "      <th>St. Stephens Ward</th>\n",
       "      <td>Aleshia</td>\n",
       "      <td>Tomkiewicz</td>\n",
       "      <td>Alan D Rosenburg Cpa Pc</td>\n",
       "      <td>14 Taylor St</td>\n",
       "      <td>Kent</td>\n",
       "      <td>CT2 7PP</td>\n",
       "      <td>01835-703597</td>\n",
       "      <td>01944-369967</td>\n",
       "      <td>atomkiewicz@hotmail.com</td>\n",
       "      <td>http://www.alandrosenburgcpapc.co.uk</td>\n",
       "    </tr>\n",
       "    <tr>\n",
       "      <th>Abbey Ward</th>\n",
       "      <td>Evan</td>\n",
       "      <td>Zigomalas</td>\n",
       "      <td>Cap Gemini America</td>\n",
       "      <td>5 Binney St</td>\n",
       "      <td>Buckinghamshire</td>\n",
       "      <td>HP11 2AX</td>\n",
       "      <td>01937-864715</td>\n",
       "      <td>01714-737668</td>\n",
       "      <td>evan.zigomalas@gmail.com</td>\n",
       "      <td>http://www.capgeminiamerica.co.uk</td>\n",
       "    </tr>\n",
       "    <tr>\n",
       "      <th>East Southbourne and Tuckton W</th>\n",
       "      <td>France</td>\n",
       "      <td>Andrade</td>\n",
       "      <td>Elliott, John W Esq</td>\n",
       "      <td>8 Moor Place</td>\n",
       "      <td>Bournemouth</td>\n",
       "      <td>BH6 3BE</td>\n",
       "      <td>01347-368222</td>\n",
       "      <td>01935-821636</td>\n",
       "      <td>france.andrade@hotmail.com</td>\n",
       "      <td>http://www.elliottjohnwesq.co.uk</td>\n",
       "    </tr>\n",
       "    <tr>\n",
       "      <th>Hawerby cum Beesby</th>\n",
       "      <td>Ulysses</td>\n",
       "      <td>Mcwalters</td>\n",
       "      <td>Mcmahan, Ben L</td>\n",
       "      <td>505 Exeter Rd</td>\n",
       "      <td>Lincolnshire</td>\n",
       "      <td>DN36 5RP</td>\n",
       "      <td>01912-771311</td>\n",
       "      <td>01302-601380</td>\n",
       "      <td>ulysses@hotmail.com</td>\n",
       "      <td>http://www.mcmahanbenl.co.uk</td>\n",
       "    </tr>\n",
       "    <tr>\n",
       "      <th>Greets Green and Lyng Ward</th>\n",
       "      <td>Tyisha</td>\n",
       "      <td>Veness</td>\n",
       "      <td>Champagne Room</td>\n",
       "      <td>5396 Forth Street</td>\n",
       "      <td>West Midlands</td>\n",
       "      <td>B70 9DT</td>\n",
       "      <td>01547-429341</td>\n",
       "      <td>01290-367248</td>\n",
       "      <td>tyisha.veness@hotmail.com</td>\n",
       "      <td>http://www.champagneroom.co.uk</td>\n",
       "    </tr>\n",
       "  </tbody>\n",
       "</table>\n",
       "</div>"
      ],
      "text/plain": [
       "                               first_name   last_name  \\\n",
       "city                                                    \n",
       "St. Stephens Ward                 Aleshia  Tomkiewicz   \n",
       "Abbey Ward                           Evan   Zigomalas   \n",
       "East Southbourne and Tuckton W     France     Andrade   \n",
       "Hawerby cum Beesby                Ulysses   Mcwalters   \n",
       "Greets Green and Lyng Ward         Tyisha      Veness   \n",
       "\n",
       "                                           company_name            address  \\\n",
       "city                                                                         \n",
       "St. Stephens Ward               Alan D Rosenburg Cpa Pc       14 Taylor St   \n",
       "Abbey Ward                           Cap Gemini America        5 Binney St   \n",
       "East Southbourne and Tuckton W      Elliott, John W Esq       8 Moor Place   \n",
       "Hawerby cum Beesby                       Mcmahan, Ben L      505 Exeter Rd   \n",
       "Greets Green and Lyng Ward               Champagne Room  5396 Forth Street   \n",
       "\n",
       "                                         county    postal        phone1  \\\n",
       "city                                                                      \n",
       "St. Stephens Ward                          Kent   CT2 7PP  01835-703597   \n",
       "Abbey Ward                      Buckinghamshire  HP11 2AX  01937-864715   \n",
       "East Southbourne and Tuckton W      Bournemouth   BH6 3BE  01347-368222   \n",
       "Hawerby cum Beesby                 Lincolnshire  DN36 5RP  01912-771311   \n",
       "Greets Green and Lyng Ward        West Midlands   B70 9DT  01547-429341   \n",
       "\n",
       "                                      phone2                       email  \\\n",
       "city                                                                       \n",
       "St. Stephens Ward               01944-369967     atomkiewicz@hotmail.com   \n",
       "Abbey Ward                      01714-737668    evan.zigomalas@gmail.com   \n",
       "East Southbourne and Tuckton W  01935-821636  france.andrade@hotmail.com   \n",
       "Hawerby cum Beesby              01302-601380         ulysses@hotmail.com   \n",
       "Greets Green and Lyng Ward      01290-367248   tyisha.veness@hotmail.com   \n",
       "\n",
       "                                                                 web  \n",
       "city                                                                  \n",
       "St. Stephens Ward               http://www.alandrosenburgcpapc.co.uk  \n",
       "Abbey Ward                         http://www.capgeminiamerica.co.uk  \n",
       "East Southbourne and Tuckton W      http://www.elliottjohnwesq.co.uk  \n",
       "Hawerby cum Beesby                      http://www.mcmahanbenl.co.uk  \n",
       "Greets Green and Lyng Ward            http://www.champagneroom.co.uk  "
      ]
     },
     "execution_count": 30,
     "metadata": {},
     "output_type": "execute_result"
    }
   ],
   "source": [
    "#let's set \"country\" as the index\n",
    "data.set_index(\"city\", inplace=True)\n",
    "data.head()"
   ]
  },
  {
   "cell_type": "code",
   "execution_count": 31,
   "metadata": {},
   "outputs": [
    {
     "data": {
      "text/html": [
       "<div>\n",
       "<style scoped>\n",
       "    .dataframe tbody tr th:only-of-type {\n",
       "        vertical-align: middle;\n",
       "    }\n",
       "\n",
       "    .dataframe tbody tr th {\n",
       "        vertical-align: top;\n",
       "    }\n",
       "\n",
       "    .dataframe thead th {\n",
       "        text-align: right;\n",
       "    }\n",
       "</style>\n",
       "<table border=\"1\" class=\"dataframe\">\n",
       "  <thead>\n",
       "    <tr style=\"text-align: right;\">\n",
       "      <th></th>\n",
       "      <th>first_name</th>\n",
       "      <th>last_name</th>\n",
       "      <th>company_name</th>\n",
       "      <th>address</th>\n",
       "      <th>county</th>\n",
       "      <th>postal</th>\n",
       "      <th>phone1</th>\n",
       "      <th>phone2</th>\n",
       "      <th>email</th>\n",
       "      <th>web</th>\n",
       "    </tr>\n",
       "    <tr>\n",
       "      <th>city</th>\n",
       "      <th></th>\n",
       "      <th></th>\n",
       "      <th></th>\n",
       "      <th></th>\n",
       "      <th></th>\n",
       "      <th></th>\n",
       "      <th></th>\n",
       "      <th></th>\n",
       "      <th></th>\n",
       "      <th></th>\n",
       "    </tr>\n",
       "  </thead>\n",
       "  <tbody>\n",
       "    <tr>\n",
       "      <th>Abbey Ward</th>\n",
       "      <td>Evan</td>\n",
       "      <td>Zigomalas</td>\n",
       "      <td>Cap Gemini America</td>\n",
       "      <td>5 Binney St</td>\n",
       "      <td>Buckinghamshire</td>\n",
       "      <td>HP11 2AX</td>\n",
       "      <td>01937-864715</td>\n",
       "      <td>01714-737668</td>\n",
       "      <td>evan.zigomalas@gmail.com</td>\n",
       "      <td>http://www.capgeminiamerica.co.uk</td>\n",
       "    </tr>\n",
       "    <tr>\n",
       "      <th>Hawerby cum Beesby</th>\n",
       "      <td>Ulysses</td>\n",
       "      <td>Mcwalters</td>\n",
       "      <td>Mcmahan, Ben L</td>\n",
       "      <td>505 Exeter Rd</td>\n",
       "      <td>Lincolnshire</td>\n",
       "      <td>DN36 5RP</td>\n",
       "      <td>01912-771311</td>\n",
       "      <td>01302-601380</td>\n",
       "      <td>ulysses@hotmail.com</td>\n",
       "      <td>http://www.mcmahanbenl.co.uk</td>\n",
       "    </tr>\n",
       "  </tbody>\n",
       "</table>\n",
       "</div>"
      ],
      "text/plain": [
       "                   first_name  last_name        company_name        address  \\\n",
       "city                                                                          \n",
       "Abbey Ward               Evan  Zigomalas  Cap Gemini America    5 Binney St   \n",
       "Hawerby cum Beesby    Ulysses  Mcwalters      Mcmahan, Ben L  505 Exeter Rd   \n",
       "\n",
       "                             county    postal        phone1        phone2  \\\n",
       "city                                                                        \n",
       "Abbey Ward          Buckinghamshire  HP11 2AX  01937-864715  01714-737668   \n",
       "Hawerby cum Beesby     Lincolnshire  DN36 5RP  01912-771311  01302-601380   \n",
       "\n",
       "                                       email  \\\n",
       "city                                           \n",
       "Abbey Ward          evan.zigomalas@gmail.com   \n",
       "Hawerby cum Beesby       ulysses@hotmail.com   \n",
       "\n",
       "                                                  web  \n",
       "city                                                   \n",
       "Abbey Ward          http://www.capgeminiamerica.co.uk  \n",
       "Hawerby cum Beesby       http://www.mcmahanbenl.co.uk  "
      ]
     },
     "execution_count": 31,
     "metadata": {},
     "output_type": "execute_result"
    }
   ],
   "source": [
    "#Now, if we want to access rows with \"Abbey Ward\" and \"Hawerby cum Beesby\":\n",
    "data.loc[[\"Abbey Ward\",\"Hawerby cum Beesby\"]]"
   ]
  },
  {
   "cell_type": "code",
   "execution_count": 34,
   "metadata": {},
   "outputs": [
    {
     "data": {
      "text/html": [
       "<div>\n",
       "<style scoped>\n",
       "    .dataframe tbody tr th:only-of-type {\n",
       "        vertical-align: middle;\n",
       "    }\n",
       "\n",
       "    .dataframe tbody tr th {\n",
       "        vertical-align: top;\n",
       "    }\n",
       "\n",
       "    .dataframe thead th {\n",
       "        text-align: right;\n",
       "    }\n",
       "</style>\n",
       "<table border=\"1\" class=\"dataframe\">\n",
       "  <thead>\n",
       "    <tr style=\"text-align: right;\">\n",
       "      <th></th>\n",
       "      <th>first_name</th>\n",
       "      <th>last_name</th>\n",
       "      <th>phone1</th>\n",
       "    </tr>\n",
       "    <tr>\n",
       "      <th>city</th>\n",
       "      <th></th>\n",
       "      <th></th>\n",
       "      <th></th>\n",
       "    </tr>\n",
       "  </thead>\n",
       "  <tbody>\n",
       "    <tr>\n",
       "      <th>Abbey Ward</th>\n",
       "      <td>Evan</td>\n",
       "      <td>Zigomalas</td>\n",
       "      <td>01937-864715</td>\n",
       "    </tr>\n",
       "    <tr>\n",
       "      <th>Hawerby cum Beesby</th>\n",
       "      <td>Ulysses</td>\n",
       "      <td>Mcwalters</td>\n",
       "      <td>01912-771311</td>\n",
       "    </tr>\n",
       "  </tbody>\n",
       "</table>\n",
       "</div>"
      ],
      "text/plain": [
       "                   first_name  last_name        phone1\n",
       "city                                                  \n",
       "Abbey Ward               Evan  Zigomalas  01937-864715\n",
       "Hawerby cum Beesby    Ulysses  Mcwalters  01912-771311"
      ]
     },
     "execution_count": 34,
     "metadata": {},
     "output_type": "execute_result"
    }
   ],
   "source": [
    "#if want specific columns:\n",
    "data.loc[[\"Abbey Ward\",\"Hawerby cum Beesby\"], [\"first_name\",\"last_name\",\"phone1\"]]"
   ]
  },
  {
   "cell_type": "code",
   "execution_count": 38,
   "metadata": {},
   "outputs": [],
   "source": [
    "#if want to reset index\n",
    "data.reset_index(inplace=True)\n"
   ]
  },
  {
   "cell_type": "code",
   "execution_count": 39,
   "metadata": {},
   "outputs": [
    {
     "data": {
      "text/plain": [
       "city                                     Church Langley Ward\n",
       "first_name                                            Leeann\n",
       "last_name                                              Flory\n",
       "company_name                  Fleetwood Area School District\n",
       "address                                    1761 Johnstone St\n",
       "county                                                 Essex\n",
       "postal                                              CM17 9TZ\n",
       "phone1                                          01906-807997\n",
       "phone2                                          01997-771926\n",
       "email                                       leeann@gmail.com\n",
       "web             http://www.fleetwoodareaschooldistrict.co.uk\n",
       "Name: 400, dtype: object"
      ]
     },
     "execution_count": 39,
     "metadata": {},
     "output_type": "execute_result"
    }
   ],
   "source": [
    "data.loc[400]             #access row with index 400"
   ]
  },
  {
   "cell_type": "markdown",
   "metadata": {},
   "source": [
    "Note: accessing row with index 400 and accessing row with position 400 is totally different. The former may have an index of 400, but a position of another number as rows may get jumbled up."
   ]
  },
  {
   "cell_type": "markdown",
   "metadata": {},
   "source": [
    "## 2b. Boolean/ Logical indexing using .loc\n"
   ]
  },
  {
   "cell_type": "markdown",
   "metadata": {},
   "source": [
    "For this method, we pass in an array or series of True/False values into the row or column selectors. Only rows where Series have True values are selected.\n",
    "- eg. data['first_name'] == \"Antonio\" produces a Series with True/False for each value"
   ]
  },
  {
   "cell_type": "code",
   "execution_count": 42,
   "metadata": {},
   "outputs": [
    {
     "data": {
      "text/plain": [
       "0      False\n",
       "1      False\n",
       "2      False\n",
       "3      False\n",
       "4      False\n",
       "5      False\n",
       "6      False\n",
       "7      False\n",
       "8      False\n",
       "9      False\n",
       "10     False\n",
       "11     False\n",
       "12     False\n",
       "13     False\n",
       "14     False\n",
       "15     False\n",
       "16     False\n",
       "17     False\n",
       "18     False\n",
       "19     False\n",
       "20     False\n",
       "21     False\n",
       "22     False\n",
       "23     False\n",
       "24     False\n",
       "25     False\n",
       "26     False\n",
       "27     False\n",
       "28     False\n",
       "29     False\n",
       "       ...  \n",
       "470    False\n",
       "471    False\n",
       "472    False\n",
       "473    False\n",
       "474    False\n",
       "475    False\n",
       "476    False\n",
       "477    False\n",
       "478    False\n",
       "479    False\n",
       "480    False\n",
       "481    False\n",
       "482    False\n",
       "483    False\n",
       "484    False\n",
       "485    False\n",
       "486    False\n",
       "487    False\n",
       "488    False\n",
       "489    False\n",
       "490    False\n",
       "491    False\n",
       "492    False\n",
       "493    False\n",
       "494    False\n",
       "495    False\n",
       "496    False\n",
       "497    False\n",
       "498    False\n",
       "499    False\n",
       "Name: first_name, Length: 500, dtype: bool"
      ]
     },
     "execution_count": 42,
     "metadata": {},
     "output_type": "execute_result"
    }
   ],
   "source": [
    "data['first_name'] == \"Antonio\" "
   ]
  },
  {
   "cell_type": "code",
   "execution_count": 43,
   "metadata": {},
   "outputs": [
    {
     "data": {
      "text/html": [
       "<div>\n",
       "<style scoped>\n",
       "    .dataframe tbody tr th:only-of-type {\n",
       "        vertical-align: middle;\n",
       "    }\n",
       "\n",
       "    .dataframe tbody tr th {\n",
       "        vertical-align: top;\n",
       "    }\n",
       "\n",
       "    .dataframe thead th {\n",
       "        text-align: right;\n",
       "    }\n",
       "</style>\n",
       "<table border=\"1\" class=\"dataframe\">\n",
       "  <thead>\n",
       "    <tr style=\"text-align: right;\">\n",
       "      <th></th>\n",
       "      <th>city</th>\n",
       "      <th>first_name</th>\n",
       "      <th>last_name</th>\n",
       "      <th>company_name</th>\n",
       "      <th>address</th>\n",
       "      <th>county</th>\n",
       "      <th>postal</th>\n",
       "      <th>phone1</th>\n",
       "      <th>phone2</th>\n",
       "      <th>email</th>\n",
       "      <th>web</th>\n",
       "    </tr>\n",
       "  </thead>\n",
       "  <tbody>\n",
       "    <tr>\n",
       "      <th>272</th>\n",
       "      <td>Little Parndon and Hare Street</td>\n",
       "      <td>Antonio</td>\n",
       "      <td>Villamarin</td>\n",
       "      <td>Combs Sheetmetal</td>\n",
       "      <td>353 Standish St #8264</td>\n",
       "      <td>Hertfordshire</td>\n",
       "      <td>CM20 2HT</td>\n",
       "      <td>01559-403415</td>\n",
       "      <td>01388-777812</td>\n",
       "      <td>antonio.villamarin@gmail.com</td>\n",
       "      <td>http://www.combssheetmetal.co.uk</td>\n",
       "    </tr>\n",
       "    <tr>\n",
       "      <th>285</th>\n",
       "      <td>Gaer Community</td>\n",
       "      <td>Antonio</td>\n",
       "      <td>Glasford</td>\n",
       "      <td>Saint Thomas Creations</td>\n",
       "      <td>425 Howley St</td>\n",
       "      <td>Newport</td>\n",
       "      <td>NP20 3DE</td>\n",
       "      <td>01463-409090</td>\n",
       "      <td>01242-318420</td>\n",
       "      <td>antonio_glasford@glasford.co.uk</td>\n",
       "      <td>http://www.saintthomascreations.co.uk</td>\n",
       "    </tr>\n",
       "    <tr>\n",
       "      <th>427</th>\n",
       "      <td>Ipplepen</td>\n",
       "      <td>Antonio</td>\n",
       "      <td>Heilig</td>\n",
       "      <td>Radisson Suite Hotel</td>\n",
       "      <td>35 Elton St #3</td>\n",
       "      <td>Devon</td>\n",
       "      <td>TQ12 5LL</td>\n",
       "      <td>01324-171614</td>\n",
       "      <td>01442-946357</td>\n",
       "      <td>antonio.heilig@gmail.com</td>\n",
       "      <td>http://www.radissonsuitehotel.co.uk</td>\n",
       "    </tr>\n",
       "  </tbody>\n",
       "</table>\n",
       "</div>"
      ],
      "text/plain": [
       "                               city first_name   last_name  \\\n",
       "272  Little Parndon and Hare Street    Antonio  Villamarin   \n",
       "285                  Gaer Community    Antonio    Glasford   \n",
       "427                        Ipplepen    Antonio      Heilig   \n",
       "\n",
       "               company_name                address         county    postal  \\\n",
       "272        Combs Sheetmetal  353 Standish St #8264  Hertfordshire  CM20 2HT   \n",
       "285  Saint Thomas Creations          425 Howley St        Newport  NP20 3DE   \n",
       "427    Radisson Suite Hotel         35 Elton St #3          Devon  TQ12 5LL   \n",
       "\n",
       "           phone1        phone2                            email  \\\n",
       "272  01559-403415  01388-777812     antonio.villamarin@gmail.com   \n",
       "285  01463-409090  01242-318420  antonio_glasford@glasford.co.uk   \n",
       "427  01324-171614  01442-946357         antonio.heilig@gmail.com   \n",
       "\n",
       "                                       web  \n",
       "272       http://www.combssheetmetal.co.uk  \n",
       "285  http://www.saintthomascreations.co.uk  \n",
       "427    http://www.radissonsuitehotel.co.uk  "
      ]
     },
     "execution_count": 43,
     "metadata": {},
     "output_type": "execute_result"
    }
   ],
   "source": [
    "#passing this series into the .loc method, will cause .loc method to only select the row with a True value\n",
    "data.loc[data[\"first_name\"]==\"Antonio\"]"
   ]
  },
  {
   "cell_type": "code",
   "execution_count": 44,
   "metadata": {},
   "outputs": [
    {
     "data": {
      "text/plain": [
       "272       antonio.villamarin@gmail.com\n",
       "285    antonio_glasford@glasford.co.uk\n",
       "427           antonio.heilig@gmail.com\n",
       "Name: email, dtype: object"
      ]
     },
     "execution_count": 44,
     "metadata": {},
     "output_type": "execute_result"
    }
   ],
   "source": [
    "data.loc[data[\"first_name\"]==\"Antonio\", 'email']             "
   ]
  },
  {
   "cell_type": "code",
   "execution_count": 46,
   "metadata": {},
   "outputs": [
    {
     "data": {
      "text/html": [
       "<div>\n",
       "<style scoped>\n",
       "    .dataframe tbody tr th:only-of-type {\n",
       "        vertical-align: middle;\n",
       "    }\n",
       "\n",
       "    .dataframe tbody tr th {\n",
       "        vertical-align: top;\n",
       "    }\n",
       "\n",
       "    .dataframe thead th {\n",
       "        text-align: right;\n",
       "    }\n",
       "</style>\n",
       "<table border=\"1\" class=\"dataframe\">\n",
       "  <thead>\n",
       "    <tr style=\"text-align: right;\">\n",
       "      <th></th>\n",
       "      <th>email</th>\n",
       "    </tr>\n",
       "  </thead>\n",
       "  <tbody>\n",
       "    <tr>\n",
       "      <th>272</th>\n",
       "      <td>antonio.villamarin@gmail.com</td>\n",
       "    </tr>\n",
       "    <tr>\n",
       "      <th>285</th>\n",
       "      <td>antonio_glasford@glasford.co.uk</td>\n",
       "    </tr>\n",
       "    <tr>\n",
       "      <th>427</th>\n",
       "      <td>antonio.heilig@gmail.com</td>\n",
       "    </tr>\n",
       "  </tbody>\n",
       "</table>\n",
       "</div>"
      ],
      "text/plain": [
       "                               email\n",
       "272     antonio.villamarin@gmail.com\n",
       "285  antonio_glasford@glasford.co.uk\n",
       "427         antonio.heilig@gmail.com"
      ]
     },
     "execution_count": 46,
     "metadata": {},
     "output_type": "execute_result"
    }
   ],
   "source": [
    "#put column value into a list, to maintain Dataframe type\n",
    "data.loc[data[\"first_name\"]==\"Antonio\", ['email']]  "
   ]
  },
  {
   "cell_type": "code",
   "execution_count": 48,
   "metadata": {},
   "outputs": [],
   "source": [
    "#After accessing rows that fulfill a condition, we can also change their value\n",
    "# Change the first name, of all rows with first_name \"Antonio\" to \"John\"\n",
    "\n",
    "data.loc[data['first_name'] == \"Antonio\", \"first_name\"] = \"John\""
   ]
  },
  {
   "cell_type": "code",
   "execution_count": 49,
   "metadata": {},
   "outputs": [
    {
     "data": {
      "text/html": [
       "<div>\n",
       "<style scoped>\n",
       "    .dataframe tbody tr th:only-of-type {\n",
       "        vertical-align: middle;\n",
       "    }\n",
       "\n",
       "    .dataframe tbody tr th {\n",
       "        vertical-align: top;\n",
       "    }\n",
       "\n",
       "    .dataframe thead th {\n",
       "        text-align: right;\n",
       "    }\n",
       "</style>\n",
       "<table border=\"1\" class=\"dataframe\">\n",
       "  <thead>\n",
       "    <tr style=\"text-align: right;\">\n",
       "      <th></th>\n",
       "      <th>city</th>\n",
       "      <th>first_name</th>\n",
       "      <th>last_name</th>\n",
       "      <th>company_name</th>\n",
       "      <th>address</th>\n",
       "      <th>county</th>\n",
       "      <th>postal</th>\n",
       "      <th>phone1</th>\n",
       "      <th>phone2</th>\n",
       "      <th>email</th>\n",
       "      <th>web</th>\n",
       "    </tr>\n",
       "  </thead>\n",
       "  <tbody>\n",
       "    <tr>\n",
       "      <th>272</th>\n",
       "      <td>Little Parndon and Hare Street</td>\n",
       "      <td>John</td>\n",
       "      <td>Villamarin</td>\n",
       "      <td>Combs Sheetmetal</td>\n",
       "      <td>353 Standish St #8264</td>\n",
       "      <td>Hertfordshire</td>\n",
       "      <td>CM20 2HT</td>\n",
       "      <td>01559-403415</td>\n",
       "      <td>01388-777812</td>\n",
       "      <td>antonio.villamarin@gmail.com</td>\n",
       "      <td>http://www.combssheetmetal.co.uk</td>\n",
       "    </tr>\n",
       "    <tr>\n",
       "      <th>285</th>\n",
       "      <td>Gaer Community</td>\n",
       "      <td>John</td>\n",
       "      <td>Glasford</td>\n",
       "      <td>Saint Thomas Creations</td>\n",
       "      <td>425 Howley St</td>\n",
       "      <td>Newport</td>\n",
       "      <td>NP20 3DE</td>\n",
       "      <td>01463-409090</td>\n",
       "      <td>01242-318420</td>\n",
       "      <td>antonio_glasford@glasford.co.uk</td>\n",
       "      <td>http://www.saintthomascreations.co.uk</td>\n",
       "    </tr>\n",
       "    <tr>\n",
       "      <th>427</th>\n",
       "      <td>Ipplepen</td>\n",
       "      <td>John</td>\n",
       "      <td>Heilig</td>\n",
       "      <td>Radisson Suite Hotel</td>\n",
       "      <td>35 Elton St #3</td>\n",
       "      <td>Devon</td>\n",
       "      <td>TQ12 5LL</td>\n",
       "      <td>01324-171614</td>\n",
       "      <td>01442-946357</td>\n",
       "      <td>antonio.heilig@gmail.com</td>\n",
       "      <td>http://www.radissonsuitehotel.co.uk</td>\n",
       "    </tr>\n",
       "  </tbody>\n",
       "</table>\n",
       "</div>"
      ],
      "text/plain": [
       "                               city first_name   last_name  \\\n",
       "272  Little Parndon and Hare Street       John  Villamarin   \n",
       "285                  Gaer Community       John    Glasford   \n",
       "427                        Ipplepen       John      Heilig   \n",
       "\n",
       "               company_name                address         county    postal  \\\n",
       "272        Combs Sheetmetal  353 Standish St #8264  Hertfordshire  CM20 2HT   \n",
       "285  Saint Thomas Creations          425 Howley St        Newport  NP20 3DE   \n",
       "427    Radisson Suite Hotel         35 Elton St #3          Devon  TQ12 5LL   \n",
       "\n",
       "           phone1        phone2                            email  \\\n",
       "272  01559-403415  01388-777812     antonio.villamarin@gmail.com   \n",
       "285  01463-409090  01242-318420  antonio_glasford@glasford.co.uk   \n",
       "427  01324-171614  01442-946357         antonio.heilig@gmail.com   \n",
       "\n",
       "                                       web  \n",
       "272       http://www.combssheetmetal.co.uk  \n",
       "285  http://www.saintthomascreations.co.uk  \n",
       "427    http://www.radissonsuitehotel.co.uk  "
      ]
     },
     "execution_count": 49,
     "metadata": {},
     "output_type": "execute_result"
    }
   ],
   "source": [
    "data.loc[data['first_name'] == \"John\"]"
   ]
  },
  {
   "cell_type": "code",
   "execution_count": null,
   "metadata": {},
   "outputs": [],
   "source": []
  }
 ],
 "metadata": {
  "kernelspec": {
   "display_name": "Python 3",
   "language": "python",
   "name": "python3"
  },
  "language_info": {
   "codemirror_mode": {
    "name": "ipython",
    "version": 3
   },
   "file_extension": ".py",
   "mimetype": "text/x-python",
   "name": "python",
   "nbconvert_exporter": "python",
   "pygments_lexer": "ipython3",
   "version": "3.7.1"
  }
 },
 "nbformat": 4,
 "nbformat_minor": 2
}
